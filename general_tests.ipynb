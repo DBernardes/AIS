{
 "cells": [
  {
   "cell_type": "markdown",
   "metadata": {},
   "source": [
    "# General tests of te AIS\n",
    "\n",
    "Created on Tue Nov 22 16h24m,  2022\n",
    "\n",
    "This is a script for the development of general tests\n",
    "\n",
    "@author: denis\n"
   ]
  },
  {
   "cell_type": "code",
   "execution_count": null,
   "metadata": {},
   "outputs": [],
   "source": [
    "# Test the PSF in hte polarimetric mode\n",
    "from AIS.Point_Spread_Function import Point_Spread_Function\n",
    "from tests.AIS_spectral_response_curves import ccd_operation_mode\n",
    "import matplotlib.pyplot as plt\n",
    "psf = Point_Spread_Function(ccd_operation_mode, 1)\n",
    "image = psf.create_star_image((50, 50), 100, 100)\n",
    "plt.imshow(image)\n",
    "plt.show()"
   ]
  },
  {
   "cell_type": "code",
   "execution_count": 1,
   "metadata": {},
   "outputs": [
    {
     "ename": "ParserError",
     "evalue": "Error tokenizing data. C error: Expected 1 fields in line 7, saw 5\n",
     "output_type": "error",
     "traceback": [
      "\u001b[1;31m---------------------------------------------------------------------------\u001b[0m",
      "\u001b[1;31mParserError\u001b[0m                               Traceback (most recent call last)",
      "\u001b[1;32mc:\\Users\\observer\\Desktop\\AIS\\general_tests.ipynb Cell 3\u001b[0m in \u001b[0;36m<cell line: 3>\u001b[1;34m()\u001b[0m\n\u001b[0;32m      <a href='vscode-notebook-cell:/c%3A/Users/observer/Desktop/AIS/general_tests.ipynb#W5sZmlsZQ%3D%3D?line=0'>1</a>\u001b[0m \u001b[39m# Print the header\u001b[39;00m\n\u001b[0;32m      <a href='vscode-notebook-cell:/c%3A/Users/observer/Desktop/AIS/general_tests.ipynb#W5sZmlsZQ%3D%3D?line=1'>2</a>\u001b[0m \u001b[39mfrom\u001b[39;00m \u001b[39mAIS\u001b[39;00m\u001b[39m.\u001b[39;00m\u001b[39mHeader\u001b[39;00m \u001b[39mimport\u001b[39;00m Header\n\u001b[1;32m----> <a href='vscode-notebook-cell:/c%3A/Users/observer/Desktop/AIS/general_tests.ipynb#W5sZmlsZQ%3D%3D?line=2'>3</a>\u001b[0m \u001b[39mfrom\u001b[39;00m \u001b[39mtests\u001b[39;00m\u001b[39m.\u001b[39;00m\u001b[39mAIS_spectral_response_curves\u001b[39;00m \u001b[39mimport\u001b[39;00m ccd_operation_mode\n\u001b[0;32m      <a href='vscode-notebook-cell:/c%3A/Users/observer/Desktop/AIS/general_tests.ipynb#W5sZmlsZQ%3D%3D?line=3'>4</a>\u001b[0m hdr \u001b[39m=\u001b[39m Header(ccd_operation_mode, \u001b[39m-\u001b[39m\u001b[39m70\u001b[39m, \u001b[39m1\u001b[39m)\n\u001b[0;32m      <a href='vscode-notebook-cell:/c%3A/Users/observer/Desktop/AIS/general_tests.ipynb#W5sZmlsZQ%3D%3D?line=4'>5</a>\u001b[0m header \u001b[39m=\u001b[39m hdr\u001b[39m.\u001b[39mcreate_header()\n",
      "File \u001b[1;32mc:\\Users\\observer\\Desktop\\AIS\\tests\\__init__.py:8\u001b[0m, in \u001b[0;36m<module>\u001b[1;34m\u001b[0m\n\u001b[0;32m      1\u001b[0m \u001b[39m\"\"\"\u001b[39;00m\n\u001b[0;32m      2\u001b[0m \u001b[39mUnit tests of the AIS.\u001b[39;00m\n\u001b[0;32m      3\u001b[0m \n\u001b[0;32m      4\u001b[0m \u001b[39mThis repo has the scripts for the unit tests of the Artificial Image Simualtor.\u001b[39;00m\n\u001b[0;32m      5\u001b[0m \u001b[39mEach script is responsable to the one of the classes contained in the AIS.\u001b[39;00m\n\u001b[0;32m      6\u001b[0m \u001b[39m\"\"\"\u001b[39;00m\n\u001b[1;32m----> 8\u001b[0m \u001b[39mfrom\u001b[39;00m \u001b[39m.\u001b[39;00m \u001b[39mimport\u001b[39;00m (\n\u001b[0;32m      9\u001b[0m     test_Atmosphere,\n\u001b[0;32m     10\u001b[0m     test_BGI_class,\n\u001b[0;32m     11\u001b[0m     test_HDR_class,\n\u001b[0;32m     12\u001b[0m     test_Noise_class,\n\u001b[0;32m     13\u001b[0m     test_PSF_class,\n\u001b[0;32m     14\u001b[0m     test_Spectral_Response,\n\u001b[0;32m     15\u001b[0m     test_Telescope,\n\u001b[0;32m     16\u001b[0m     test_Spectral_Energy_Distribution,\n\u001b[0;32m     17\u001b[0m     test_Source,\n\u001b[0;32m     18\u001b[0m     test_Sky_class\n\u001b[0;32m     19\u001b[0m )\n",
      "File \u001b[1;32mc:\\Users\\observer\\Desktop\\AIS\\tests\\test_HDR_class.py:30\u001b[0m, in \u001b[0;36m<module>\u001b[1;34m\u001b[0m\n\u001b[0;32m     26\u001b[0m     \u001b[39mreturn\u001b[39;00m hdr\n\u001b[0;32m     29\u001b[0m file \u001b[39m=\u001b[39m os\u001b[39m.\u001b[39mpath\u001b[39m.\u001b[39mjoin(\u001b[39m\"\u001b[39m\u001b[39mAIS\u001b[39m\u001b[39m\"\u001b[39m, \u001b[39m\"\u001b[39m\u001b[39mHeader\u001b[39m\u001b[39m\"\u001b[39m, \u001b[39m\"\u001b[39m\u001b[39mheader.csv\u001b[39m\u001b[39m\"\u001b[39m)\n\u001b[1;32m---> 30\u001b[0m ss \u001b[39m=\u001b[39m pd\u001b[39m.\u001b[39;49mread_csv(file)\n\u001b[0;32m     31\u001b[0m ccd_gain \u001b[39m=\u001b[39m \u001b[39m3.37\u001b[39m\n\u001b[0;32m     34\u001b[0m \u001b[39m# ----------------------- Initilization -----------------------------\u001b[39;00m\n",
      "File \u001b[1;32mc:\\Users\\observer\\AppData\\Local\\Programs\\Python\\Python310\\lib\\site-packages\\pandas\\util\\_decorators.py:311\u001b[0m, in \u001b[0;36mdeprecate_nonkeyword_arguments.<locals>.decorate.<locals>.wrapper\u001b[1;34m(*args, **kwargs)\u001b[0m\n\u001b[0;32m    305\u001b[0m \u001b[39mif\u001b[39;00m \u001b[39mlen\u001b[39m(args) \u001b[39m>\u001b[39m num_allow_args:\n\u001b[0;32m    306\u001b[0m     warnings\u001b[39m.\u001b[39mwarn(\n\u001b[0;32m    307\u001b[0m         msg\u001b[39m.\u001b[39mformat(arguments\u001b[39m=\u001b[39marguments),\n\u001b[0;32m    308\u001b[0m         \u001b[39mFutureWarning\u001b[39;00m,\n\u001b[0;32m    309\u001b[0m         stacklevel\u001b[39m=\u001b[39mstacklevel,\n\u001b[0;32m    310\u001b[0m     )\n\u001b[1;32m--> 311\u001b[0m \u001b[39mreturn\u001b[39;00m func(\u001b[39m*\u001b[39margs, \u001b[39m*\u001b[39m\u001b[39m*\u001b[39mkwargs)\n",
      "File \u001b[1;32mc:\\Users\\observer\\AppData\\Local\\Programs\\Python\\Python310\\lib\\site-packages\\pandas\\io\\parsers\\readers.py:678\u001b[0m, in \u001b[0;36mread_csv\u001b[1;34m(filepath_or_buffer, sep, delimiter, header, names, index_col, usecols, squeeze, prefix, mangle_dupe_cols, dtype, engine, converters, true_values, false_values, skipinitialspace, skiprows, skipfooter, nrows, na_values, keep_default_na, na_filter, verbose, skip_blank_lines, parse_dates, infer_datetime_format, keep_date_col, date_parser, dayfirst, cache_dates, iterator, chunksize, compression, thousands, decimal, lineterminator, quotechar, quoting, doublequote, escapechar, comment, encoding, encoding_errors, dialect, error_bad_lines, warn_bad_lines, on_bad_lines, delim_whitespace, low_memory, memory_map, float_precision, storage_options)\u001b[0m\n\u001b[0;32m    663\u001b[0m kwds_defaults \u001b[39m=\u001b[39m _refine_defaults_read(\n\u001b[0;32m    664\u001b[0m     dialect,\n\u001b[0;32m    665\u001b[0m     delimiter,\n\u001b[1;32m   (...)\u001b[0m\n\u001b[0;32m    674\u001b[0m     defaults\u001b[39m=\u001b[39m{\u001b[39m\"\u001b[39m\u001b[39mdelimiter\u001b[39m\u001b[39m\"\u001b[39m: \u001b[39m\"\u001b[39m\u001b[39m,\u001b[39m\u001b[39m\"\u001b[39m},\n\u001b[0;32m    675\u001b[0m )\n\u001b[0;32m    676\u001b[0m kwds\u001b[39m.\u001b[39mupdate(kwds_defaults)\n\u001b[1;32m--> 678\u001b[0m \u001b[39mreturn\u001b[39;00m _read(filepath_or_buffer, kwds)\n",
      "File \u001b[1;32mc:\\Users\\observer\\AppData\\Local\\Programs\\Python\\Python310\\lib\\site-packages\\pandas\\io\\parsers\\readers.py:581\u001b[0m, in \u001b[0;36m_read\u001b[1;34m(filepath_or_buffer, kwds)\u001b[0m\n\u001b[0;32m    578\u001b[0m     \u001b[39mreturn\u001b[39;00m parser\n\u001b[0;32m    580\u001b[0m \u001b[39mwith\u001b[39;00m parser:\n\u001b[1;32m--> 581\u001b[0m     \u001b[39mreturn\u001b[39;00m parser\u001b[39m.\u001b[39;49mread(nrows)\n",
      "File \u001b[1;32mc:\\Users\\observer\\AppData\\Local\\Programs\\Python\\Python310\\lib\\site-packages\\pandas\\io\\parsers\\readers.py:1253\u001b[0m, in \u001b[0;36mTextFileReader.read\u001b[1;34m(self, nrows)\u001b[0m\n\u001b[0;32m   1251\u001b[0m nrows \u001b[39m=\u001b[39m validate_integer(\u001b[39m\"\u001b[39m\u001b[39mnrows\u001b[39m\u001b[39m\"\u001b[39m, nrows)\n\u001b[0;32m   1252\u001b[0m \u001b[39mtry\u001b[39;00m:\n\u001b[1;32m-> 1253\u001b[0m     index, columns, col_dict \u001b[39m=\u001b[39m \u001b[39mself\u001b[39;49m\u001b[39m.\u001b[39;49m_engine\u001b[39m.\u001b[39;49mread(nrows)\n\u001b[0;32m   1254\u001b[0m \u001b[39mexcept\u001b[39;00m \u001b[39mException\u001b[39;00m:\n\u001b[0;32m   1255\u001b[0m     \u001b[39mself\u001b[39m\u001b[39m.\u001b[39mclose()\n",
      "File \u001b[1;32mc:\\Users\\observer\\AppData\\Local\\Programs\\Python\\Python310\\lib\\site-packages\\pandas\\io\\parsers\\c_parser_wrapper.py:225\u001b[0m, in \u001b[0;36mCParserWrapper.read\u001b[1;34m(self, nrows)\u001b[0m\n\u001b[0;32m    223\u001b[0m \u001b[39mtry\u001b[39;00m:\n\u001b[0;32m    224\u001b[0m     \u001b[39mif\u001b[39;00m \u001b[39mself\u001b[39m\u001b[39m.\u001b[39mlow_memory:\n\u001b[1;32m--> 225\u001b[0m         chunks \u001b[39m=\u001b[39m \u001b[39mself\u001b[39;49m\u001b[39m.\u001b[39;49m_reader\u001b[39m.\u001b[39;49mread_low_memory(nrows)\n\u001b[0;32m    226\u001b[0m         \u001b[39m# destructive to chunks\u001b[39;00m\n\u001b[0;32m    227\u001b[0m         data \u001b[39m=\u001b[39m _concatenate_chunks(chunks)\n",
      "File \u001b[1;32mc:\\Users\\observer\\AppData\\Local\\Programs\\Python\\Python310\\lib\\site-packages\\pandas\\_libs\\parsers.pyx:805\u001b[0m, in \u001b[0;36mpandas._libs.parsers.TextReader.read_low_memory\u001b[1;34m()\u001b[0m\n",
      "File \u001b[1;32mc:\\Users\\observer\\AppData\\Local\\Programs\\Python\\Python310\\lib\\site-packages\\pandas\\_libs\\parsers.pyx:861\u001b[0m, in \u001b[0;36mpandas._libs.parsers.TextReader._read_rows\u001b[1;34m()\u001b[0m\n",
      "File \u001b[1;32mc:\\Users\\observer\\AppData\\Local\\Programs\\Python\\Python310\\lib\\site-packages\\pandas\\_libs\\parsers.pyx:847\u001b[0m, in \u001b[0;36mpandas._libs.parsers.TextReader._tokenize_rows\u001b[1;34m()\u001b[0m\n",
      "File \u001b[1;32mc:\\Users\\observer\\AppData\\Local\\Programs\\Python\\Python310\\lib\\site-packages\\pandas\\_libs\\parsers.pyx:1960\u001b[0m, in \u001b[0;36mpandas._libs.parsers.raise_parser_error\u001b[1;34m()\u001b[0m\n",
      "\u001b[1;31mParserError\u001b[0m: Error tokenizing data. C error: Expected 1 fields in line 7, saw 5\n"
     ]
    }
   ],
   "source": [
    "# Print the header\n",
    "from AIS.Header import Header\n",
    "from tests.AIS_spectral_response_curves import ccd_operation_mode\n",
    "hdr = Header(ccd_operation_mode, -70, 1)\n",
    "header = hdr.create_header()\n",
    "print(repr(header))"
   ]
  },
  {
   "cell_type": "code",
   "execution_count": null,
   "metadata": {},
   "outputs": [],
   "source": [
    "# Test the blackbody profile\n",
    "from AIS. Artificial_Image_Simulator import Artificial_Image_Simulator\n",
    "from AIS.Spectral_Energy_Distribution import Source\n",
    "import matplotlib.pyplot as plt\n",
    "from tests.AIS_spectral_response_curves import ccd_operation_mode\n",
    "\n",
    "ais = Artificial_Image_Simulator(ccd_operation_mode, 1, -70)\n",
    "\n",
    "ais.create_source_sed('blackbody', 15, (400, 1100, 100), 5700)\n",
    "ais.create_sky_sed('new', ais.wavelength)\n",
    "plt.plot(ais.wavelength, ais.source_sed, label='Blackbody')\n",
    "ais.apply_atmosphere_spectral_response()\n",
    "plt.plot(ais.wavelength, ais.source_sed, label='Blackbody with atmosphere')\n",
    "ais.apply_telescope_spectral_response()\n",
    "plt.plot(ais.wavelength, ais.source_sed,\n",
    "         label='Blackbody with atmosphere and telescope')\n",
    "ais.apply_sparc4_spectral_response('photometric')\n",
    "plt.plot(ais.wavelength, ais.source_sed,\n",
    "         label='Blackbody with atmosphere, telescope and SPARC4')\n",
    "plt.legend()\n",
    "plt.xlabel('Wavelength (nm)')\n",
    "plt.ylabel('SED (W/m2/nm)')\n",
    "plt.title('Blackbody SED')\n",
    "plt.show()"
   ]
  },
  {
   "cell_type": "code",
   "execution_count": null,
   "metadata": {},
   "outputs": [],
   "source": [
    "# Test the sbpy package\n",
    "from sbpy.calib import Vega, vega_fluxd\n",
    "print(vega_fluxd.get()[\"Johnson V\"].value)\n"
   ]
  },
  {
   "cell_type": "code",
   "execution_count": null,
   "metadata": {},
   "outputs": [],
   "source": [
    "# Test the _read_spectral_library function\n",
    "from AIS.Spectral_Energy_Distribution import Source\n",
    "from matplotlib import pyplot as plt\n",
    "source = Source()\n",
    "wv, sed = source.calculate_sed(\n",
    "    'spectral_library', 10, spectral_type='g5v')\n",
    "plt.plot(wv, sed)\n",
    "plt.show()"
   ]
  },
  {
   "cell_type": "code",
   "execution_count": null,
   "metadata": {},
   "outputs": [],
   "source": [
    "\n",
    "# Test the Sky Class\n",
    "from AIS.Spectral_Energy_Distribution import Sky\n",
    "import matplotlib.pyplot as plt\n",
    "from tests.AIS_spectral_response_curves import wavelength_interval as obj_wavelength\n",
    "sky = Sky()\n",
    "sed = sky.calculate_sed('new', obj_wavelength)\n",
    "plt.plot(obj_wavelength, sed)\n",
    "plt.show()\n"
   ]
  },
  {
   "cell_type": "code",
   "execution_count": null,
   "metadata": {},
   "outputs": [],
   "source": [
    "\n",
    "# Test the sparc4 spectral response\n",
    "from AIS.Spectral_Response import Channel\n",
    "import matplotlib.pyplot as plt\n",
    "import numpy as np\n",
    "\n",
    "sed = np.ones(100)\n",
    "wv = np.linspace(400, 1100, 100)\n",
    "for i in [1, 2, 3, 4]:\n",
    "    channel = Channel(i)\n",
    "    channel.write_sparc4_operation_mode('photometric')\n",
    "    ch1_spectral_response = channel.apply_spectral_response(sed, wv)\n",
    "    plt.plot(wv, ch1_spectral_response, label=f'Channel {i}')\n",
    "plt.legend()\n",
    "plt.xlabel('Wavelength (nm)')\n",
    "plt.ylabel('Transmitance (%)')\n",
    "plt.show()\n"
   ]
  },
  {
   "cell_type": "code",
   "execution_count": null,
   "metadata": {},
   "outputs": [],
   "source": [
    "\n",
    "# Test the atmosphere spectral response\n",
    "from AIS.Spectral_Response import Atmosphere\n",
    "import matplotlib.pyplot as plt\n",
    "from tests.AIS_spectral_response_curves import wavelength_interval as obj_wavelength\n",
    "\n",
    "atmosphere = Atmosphere()\n",
    "spectral_response = atmosphere.get_spectral_response(obj_wavelength, 1)\n",
    "plt.plot(obj_wavelength, spectral_response)\n",
    "plt.xlabel('Wavelength (nm)')\n",
    "plt.ylabel('Transmitance (%)')\n",
    "plt.show()\n"
   ]
  },
  {
   "cell_type": "code",
   "execution_count": null,
   "metadata": {},
   "outputs": [],
   "source": [
    "# Test telescope spectral response\n",
    "from AIS.Spectral_Response import Telescope\n",
    "telescope = Telescope()\n",
    "spectral_response = telescope.get_spectral_response(obj_wavelength)\n",
    "plt.plot(obj_wavelength, spectral_response)\n",
    "plt.xlabel('Wavelength (nm)')\n",
    "plt.ylabel('Transmitance (%)')\n",
    "plt.show()\n"
   ]
  },
  {
   "cell_type": "code",
   "execution_count": 18,
   "metadata": {},
   "outputs": [],
   "source": [
    "# Test the AIS.create_image function\n",
    "from AIS.Artificial_Image_Simulator import Artificial_Image_Simulator\n",
    "from tests.AIS_spectral_response_curves import ccd_operation_mode\n",
    "import matplotlib.pyplot as plt\n",
    "\n",
    "wavelegnth_interval = (350, 1100, 100)\n",
    "ais = Artificial_Image_Simulator(ccd_operation_mode, 1, -70)\n",
    "ais.create_source_sed('blackbody', 15, wavelegnth_interval, 5700)\n",
    "ais.create_sky_sed('new')\n",
    "ais.apply_atmosphere_spectral_response()\n",
    "ais.apply_telescope_spectral_response()\n",
    "ais.apply_sparc4_spectral_response('photometric')\n",
    "ais.create_artificial_image(r'E:\\images\\test', (50, 50))"
   ]
  },
  {
   "cell_type": "code",
   "execution_count": null,
   "metadata": {},
   "outputs": [],
   "source": [
    "# Test the PSF class\n",
    "from AIS.Point_Spread_Function import Point_Spread_Function\n",
    "from tests.AIS_spectral_response_curves import ccd_operation_mode\n",
    "from matplotlib import pyplot as plt\n",
    "\n",
    "psf = Point_Spread_Function(ccd_operation_mode, 1)\n",
    "star_image = psf.create_star_image((50, 50), 1e20, 1e20)\n",
    "plt.imshow(star_image)\n",
    "plt.show()\n"
   ]
  },
  {
   "cell_type": "code",
   "execution_count": null,
   "metadata": {},
   "outputs": [],
   "source": [
    "# Test blackbody funcion\n",
    "from AIS.Spectral_Energy_Distribution import Source\n",
    "import matplotlib.pyplot as plt\n",
    "import numpy as np\n",
    "\n",
    "wv = np.linspace(400, 1100, 100)\n",
    "source = Source()\n",
    "#bb = source._calculate_sed_blackbody(wv, 5000)\n",
    "#plt.plot(wv, bb)\n",
    "# plt.show()\n",
    "print(source._calculate_photons_density(15))\n"
   ]
  },
  {
   "cell_type": "code",
   "execution_count": null,
   "metadata": {},
   "outputs": [],
   "source": [
    "# Test sky SED\n",
    "from AIS.Spectral_Energy_Distribution import Sky\n",
    "import matplotlib.pyplot as plt\n",
    "import numpy as np\n",
    "\n",
    "wv = np.linspace(400, 900, 100)\n",
    "sky = Sky()\n",
    "sky_sed = sky.calculate_sed('new', wv)\n",
    "plt.plot(wv, sky_sed)\n",
    "plt.show()"
   ]
  }
 ],
 "metadata": {
  "kernelspec": {
   "display_name": "Python 3.10.1 64-bit",
   "language": "python",
   "name": "python3"
  },
  "language_info": {
   "codemirror_mode": {
    "name": "ipython",
    "version": 3
   },
   "file_extension": ".py",
   "mimetype": "text/x-python",
   "name": "python",
   "nbconvert_exporter": "python",
   "pygments_lexer": "ipython3",
   "version": "3.10.1"
  },
  "orig_nbformat": 4,
  "vscode": {
   "interpreter": {
    "hash": "28f08ed41b5e3c546b55b7f8ca3b3db5f64173800f54c918f7f1499088e79079"
   }
  }
 },
 "nbformat": 4,
 "nbformat_minor": 2
}
