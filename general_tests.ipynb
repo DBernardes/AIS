{
 "cells": [
  {
   "cell_type": "markdown",
   "metadata": {},
   "source": [
    "# General tests of te AIS\n",
    "\n",
    "Created on Tue Nov 22 16h24m,  2022\n",
    "\n",
    "This is a script for the development of general tests\n",
    "\n",
    "@author: denis\n"
   ]
  },
  {
   "cell_type": "code",
   "execution_count": null,
   "metadata": {},
   "outputs": [],
   "source": [
    "# Test the PSF in hte polarimetric mode\n",
    "from AIS.Point_Spread_Function import Point_Spread_Function\n",
    "from tests.AIS_spectral_response_curves import ccd_operation_mode\n",
    "import matplotlib.pyplot as plt\n",
    "psf = Point_Spread_Function(ccd_operation_mode, 1)\n",
    "image = psf.create_star_image((50, 50), 100, 100)\n",
    "plt.imshow(image)\n",
    "plt.show()"
   ]
  },
  {
   "cell_type": "code",
   "execution_count": null,
   "metadata": {},
   "outputs": [],
   "source": [
    "# Print the header\n",
    "from AIS.Header import Header\n",
    "from tests.AIS_spectral_response_curves import ccd_operation_mode\n",
    "hdr = Header(ccd_operation_mode, -70, 1)\n",
    "header = hdr.create_header()\n",
    "print(repr(header))"
   ]
  },
  {
   "cell_type": "code",
   "execution_count": null,
   "metadata": {},
   "outputs": [],
   "source": [
    "# Test the blackbody profile\n",
    "from AIS. Artificial_Image_Simulator import Artificial_Image_Simulator\n",
    "from AIS.Spectral_Energy_Distribution import Source\n",
    "import matplotlib.pyplot as plt\n",
    "from tests.AIS_spectral_response_curves import ccd_operation_mode\n",
    "\n",
    "ais = Artificial_Image_Simulator(ccd_operation_mode, 1, -70)\n",
    "\n",
    "ais.create_source_sed('blackbody', 15, (400, 1100, 100), 5700)\n",
    "ais.create_sky_sed('new', ais.wavelength)\n",
    "plt.plot(ais.wavelength, ais.source_sed, label='Blackbody')\n",
    "ais.apply_atmosphere_spectral_response()\n",
    "plt.plot(ais.wavelength, ais.source_sed, label='Blackbody with atmosphere')\n",
    "ais.apply_telescope_spectral_response()\n",
    "plt.plot(ais.wavelength, ais.source_sed,\n",
    "         label='Blackbody with atmosphere and telescope')\n",
    "ais.apply_sparc4_spectral_response('photometric')\n",
    "plt.plot(ais.wavelength, ais.source_sed,\n",
    "         label='Blackbody with atmosphere, telescope and SPARC4')\n",
    "plt.legend()\n",
    "plt.xlabel('Wavelength (nm)')\n",
    "plt.ylabel('SED (W/m2/nm)')\n",
    "plt.title('Blackbody SED')\n",
    "plt.show()"
   ]
  },
  {
   "cell_type": "code",
   "execution_count": null,
   "metadata": {},
   "outputs": [],
   "source": [
    "# Test the sbpy package\n",
    "from sbpy.calib import Vega, vega_fluxd\n",
    "print(vega_fluxd.get()[\"Johnson V\"].value)\n"
   ]
  },
  {
   "cell_type": "code",
   "execution_count": null,
   "metadata": {},
   "outputs": [],
   "source": [
    "# Test the _read_spectral_library function\n",
    "from AIS.Spectral_Energy_Distribution import Source\n",
    "from matplotlib import pyplot as plt\n",
    "source = Source()\n",
    "wv, sed = source.calculate_sed(\n",
    "    'spectral_library', 10, spectral_type='g5v')\n",
    "plt.plot(wv, sed)\n",
    "plt.show()"
   ]
  },
  {
   "cell_type": "code",
   "execution_count": null,
   "metadata": {},
   "outputs": [],
   "source": [
    "\n",
    "# Test the Sky Class\n",
    "from AIS.Spectral_Energy_Distribution import Sky\n",
    "import matplotlib.pyplot as plt\n",
    "from tests.AIS_spectral_response_curves import wavelength_interval as obj_wavelength\n",
    "sky = Sky()\n",
    "sed = sky.calculate_sed('new', obj_wavelength)\n",
    "plt.plot(obj_wavelength, sed)\n",
    "plt.show()\n"
   ]
  },
  {
   "cell_type": "code",
   "execution_count": null,
   "metadata": {},
   "outputs": [],
   "source": [
    "\n",
    "# Test the sparc4 spectral response\n",
    "from AIS.Spectral_Response import Channel\n",
    "import matplotlib.pyplot as plt\n",
    "import numpy as np\n",
    "\n",
    "sed = np.ones(100)\n",
    "wv = np.linspace(400, 1100, 100)\n",
    "for i in [1, 2, 3, 4]:\n",
    "    channel = Channel(i)\n",
    "    channel.write_sparc4_operation_mode('photometric')\n",
    "    ch1_spectral_response = channel.apply_spectral_response(sed, wv)\n",
    "    plt.plot(wv, ch1_spectral_response, label=f'Channel {i}')\n",
    "plt.legend()\n",
    "plt.xlabel('Wavelength (nm)')\n",
    "plt.ylabel('Transmitance (%)')\n",
    "plt.show()\n"
   ]
  },
  {
   "cell_type": "code",
   "execution_count": null,
   "metadata": {},
   "outputs": [],
   "source": [
    "\n",
    "# Test the atmosphere spectral response\n",
    "from AIS.Spectral_Response import Atmosphere\n",
    "import matplotlib.pyplot as plt\n",
    "from tests.AIS_spectral_response_curves import wavelength_interval as obj_wavelength\n",
    "\n",
    "atmosphere = Atmosphere()\n",
    "spectral_response = atmosphere.get_spectral_response(obj_wavelength, 1)\n",
    "plt.plot(obj_wavelength, spectral_response)\n",
    "plt.xlabel('Wavelength (nm)')\n",
    "plt.ylabel('Transmitance (%)')\n",
    "plt.show()\n"
   ]
  },
  {
   "cell_type": "code",
   "execution_count": null,
   "metadata": {},
   "outputs": [],
   "source": [
    "# Test telescope spectral response\n",
    "from AIS.Spectral_Response import Telescope\n",
    "telescope = Telescope()\n",
    "spectral_response = telescope.get_spectral_response(obj_wavelength)\n",
    "plt.plot(obj_wavelength, spectral_response)\n",
    "plt.xlabel('Wavelength (nm)')\n",
    "plt.ylabel('Transmitance (%)')\n",
    "plt.show()\n"
   ]
  },
  {
   "cell_type": "code",
   "execution_count": 1,
   "metadata": {},
   "outputs": [
    {
     "name": "stderr",
     "output_type": "stream",
     "text": [
      "WARNING: VerifyWarning: Card is too long, comment will be truncated. [astropy.io.fits.card]\n"
     ]
    }
   ],
   "source": [
    "# Test the AIS.create_image function\n",
    "from AIS.Artificial_Image_Simulator import Artificial_Image_Simulator\n",
    "from tests.AIS_spectral_response_curves import ccd_operation_mode\n",
    "import matplotlib.pyplot as plt\n",
    "\n",
    "wavelegnth_interval = (350, 1100, 100)\n",
    "ais = Artificial_Image_Simulator(ccd_operation_mode, 1, -70)\n",
    "ais.create_source_sed('blackbody', 15, wavelegnth_interval, 5700)\n",
    "ais.create_sky_sed('new')\n",
    "ais.apply_atmosphere_spectral_response()\n",
    "ais.apply_telescope_spectral_response()\n",
    "ais.apply_sparc4_spectral_response('photometric')\n",
    "ais.create_artificial_image(r'E:\\images\\test', (50, 50))"
   ]
  },
  {
   "cell_type": "code",
   "execution_count": null,
   "metadata": {},
   "outputs": [],
   "source": [
    "# Test the PSF class\n",
    "from AIS.Point_Spread_Function import Point_Spread_Function\n",
    "from tests.AIS_spectral_response_curves import ccd_operation_mode\n",
    "import matplotlib.pyplot as plt\n",
    "\n",
    "psf = Point_Spread_Function(ccd_operation_mode, 1)\n",
    "star_image = psf.create_star_image((50, 50), 1e20, 1e20)\n",
    "plt.imshow(star_image)\n",
    "plt.show()\n"
   ]
  },
  {
   "cell_type": "code",
   "execution_count": null,
   "metadata": {},
   "outputs": [],
   "source": [
    "# Test blackbody funcion\n",
    "from AIS.Spectral_Energy_Distribution import Source\n",
    "import matplotlib.pyplot as plt\n",
    "import numpy as np\n",
    "\n",
    "wv = np.linspace(400, 1100, 100)\n",
    "source = Source()\n",
    "#bb = source._calculate_sed_blackbody(wv, 5000)\n",
    "#plt.plot(wv, bb)\n",
    "# plt.show()\n",
    "print(source._calculate_photons_density(15))\n"
   ]
  },
  {
   "cell_type": "code",
   "execution_count": null,
   "metadata": {},
   "outputs": [],
   "source": [
    "# Test sky SED\n",
    "from AIS.Spectral_Energy_Distribution import Sky\n",
    "import matplotlib.pyplot as plt\n",
    "import numpy as np\n",
    "\n",
    "wv = np.linspace(400, 900, 100)\n",
    "sky = Sky()\n",
    "sky_sed = sky.calculate_sed('new', wv)\n",
    "plt.plot(wv, sky_sed)\n",
    "plt.show()"
   ]
  },
  {
   "cell_type": "code",
   "execution_count": 3,
   "metadata": {},
   "outputs": [
    {
     "data": {
      "image/png": "[encoded data removed]",
      "text/plain": [
       "<Figure size 640x480 with 1 Axes>"
      ]
     },
     "metadata": {},
     "output_type": "display_data"
    }
   ],
   "source": [
    "# Test create image ordinary ray\n",
    "from AIS.Point_Spread_Function import Point_Spread_Function\n",
    "from tests.AIS_spectral_response_curves import ccd_operation_mode\n",
    "import matplotlib.pyplot as plt\n",
    "\n",
    "\n",
    "psf = Point_Spread_Function(ccd_operation_mode, 1)\n",
    "psf._create_table((50,50), 1)\n",
    "image = psf._create_image_ordinary_ray(1000)\n",
    "plt.imshow(image)\n",
    "plt.show()\n"
   ]
  }
 ],
 "metadata": {
  "kernelspec": {
   "display_name": "Python 3.10.1 64-bit",
   "language": "python",
   "name": "python3"
  },
  "language_info": {
   "codemirror_mode": {
    "name": "ipython",
    "version": 3
   },
   "file_extension": ".py",
   "mimetype": "text/x-python",
   "name": "python",
   "nbconvert_exporter": "python",
   "pygments_lexer": "ipython3",
   "version": "3.10.1"
  },
  "orig_nbformat": 4,
  "vscode": {
   "interpreter": {
    "hash": "28f08ed41b5e3c546b55b7f8ca3b3db5f64173800f54c918f7f1499088e79079"
   }
  }
 },
 "nbformat": 4,
 "nbformat_minor": 2
}
