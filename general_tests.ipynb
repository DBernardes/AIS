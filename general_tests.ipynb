{
 "cells": [
  {
   "attachments": {},
   "cell_type": "markdown",
   "metadata": {},
   "source": [
    "# General tests of te AIS\n",
    "\n",
    "Created on Tue Nov 22 16h24m,  2022\n",
    "\n",
    "This is a script for the development of general tests\n",
    "\n",
    "@author: denis\n"
   ]
  },
  {
   "cell_type": "code",
   "execution_count": null,
   "metadata": {},
   "outputs": [],
   "source": [
    "# Test the sbpy package\n",
    "from sbpy.calib import Vega, vega_fluxd\n",
    "\n",
    "print(vega_fluxd.get()[\"Johnson V\"])"
   ]
  },
  {
   "cell_type": "code",
   "execution_count": null,
   "metadata": {},
   "outputs": [],
   "source": [
    "# Test the PSF class\n",
    "from AIS.Point_Spread_Function import Point_Spread_Function\n",
    "import matplotlib.pyplot as plt\n",
    "\n",
    "ccd_operation_mode = {\n",
    "    \"em_mode\": \"Conv\",\n",
    "    \"em_gain\": 1,\n",
    "    \"preamp\": 1,\n",
    "    \"readout\": 1,\n",
    "    \"binn\": 1,\n",
    "    \"t_exp\": 1,\n",
    "    \"image_size\": 100,\n",
    "}\n",
    "psf = Point_Spread_Function(ccd_operation_mode, 1)\n",
    "image = psf.create_star_image((50, 50), 1e3, 1e3)\n",
    "plt.imshow(image)\n",
    "plt.show()"
   ]
  },
  {
   "cell_type": "code",
   "execution_count": null,
   "metadata": {},
   "outputs": [],
   "source": [
    "# Test the AIS.create_image function\n",
    "from AIS.Artificial_Image_Simulator import Artificial_Image_Simulator\n",
    "import os\n",
    "\n",
    "ccd_operation_mode = {\n",
    "    \"em_mode\": \"Conv\",\n",
    "    \"em_gain\": 1,\n",
    "    \"preamp\": 1,\n",
    "    \"readout\": 1,\n",
    "    \"binn\": 1,\n",
    "    \"t_exp\": 1,\n",
    "    \"image_size\": 100,\n",
    "}\n",
    "\n",
    "wavelength_interval = (400, 1100, 100)\n",
    "ais = Artificial_Image_Simulator(ccd_operation_mode, 1, -70)\n",
    "ais.create_source_sed(\"blackbody\", 15, wavelength_interval, 5700)\n",
    "ais.create_sky_sed(\"new\")\n",
    "ais.apply_atmosphere_spectral_response(air_mass=1.2, sky_condition=\"photometric\")\n",
    "ais.apply_telescope_spectral_response()\n",
    "ais.apply_sparc4_spectral_response(\"photometry\")\n",
    "ais.create_artificial_image(os.path.join(\"E:\", \"images\", \"test\"))"
   ]
  },
  {
   "cell_type": "code",
   "execution_count": null,
   "metadata": {},
   "outputs": [],
   "source": [
    "# Create a time series of images\n",
    "\n",
    "from AIS.Artificial_Image_Simulator import Artificial_Image_Simulator\n",
    "import matplotlib.pyplot as plt\n",
    "import numpy as np\n",
    "from math import pi\n",
    "from sys import exit\n",
    "from time import sleep\n",
    "import os\n",
    "\n",
    "ccd_operation_mode = {\n",
    "    \"em_mode\": \"Conv\",\n",
    "    \"em_gain\": 1,\n",
    "    \"preamp\": 1,\n",
    "    \"readout\": 1,\n",
    "    \"binn\": 1,\n",
    "    \"t_exp\": 1,\n",
    "    \"image_size\": 100,\n",
    "}\n",
    "\n",
    "n = 100\n",
    "images_path = os.path.join(\"E:\", \"images\", \"test\")\n",
    "time = np.linspace(0, 2 * pi, n)\n",
    "mags = 15 + 0.1 * np.sin(time) + np.random.normal(0, 0.01, n)\n",
    "\n",
    "ais = Artificial_Image_Simulator(ccd_operation_mode, channel_id=1, ccd_temperature=-70)\n",
    "ais.create_bias_image(images_path, 10)\n",
    "ais.create_flat_image(images_path, 20)\n",
    "\n",
    "\n",
    "for mag in mags:\n",
    "    ais = Artificial_Image_Simulator(\n",
    "        ccd_operation_mode, channel_id=1, ccd_temperature=-70\n",
    "    )\n",
    "    ais.create_source_sed(\n",
    "        calculation_method=\"blackbody\",\n",
    "        magnitude=mag,\n",
    "        wavelength_interval=(400, 1100, 1000),\n",
    "        temperature=5700,\n",
    "    )\n",
    "    ais.create_sky_sed(moon_phase=\"new\")\n",
    "    ais.apply_atmosphere_spectral_response()\n",
    "    ais.apply_telescope_spectral_response()\n",
    "    ais.apply_sparc4_spectral_response(acquisition_mode=\"photometry\")\n",
    "    ais.create_artificial_image(image_path=images_path, star_coordinates=(50, 50))\n",
    "    sleep(ccd_operation_mode[\"t_exp\"])"
   ]
  },
  {
   "cell_type": "code",
   "execution_count": null,
   "metadata": {},
   "outputs": [],
   "source": [
    "# Create video polarimetry\n",
    "\n",
    "from AIS.Artificial_Image_Simulator import Artificial_Image_Simulator\n",
    "import numpy as np\n",
    "import matplotlib.pyplot as plt\n",
    "import os\n",
    "import cv2\n",
    "\n",
    "ccd_operation_mode = {\n",
    "    \"em_mode\": \"Conv\",\n",
    "    \"em_gain\": 1,\n",
    "    \"preamp\": 1,\n",
    "    \"readout\": 1,\n",
    "    \"binn\": 1,\n",
    "    \"t_exp\": 1,\n",
    "    \"image_size\": 100,\n",
    "}\n",
    "path = r\"E:\\images\\test\"\n",
    "\n",
    "ais = Artificial_Image_Simulator(ccd_operation_mode, channel_id=1, ccd_temperature=-70)\n",
    "\n",
    "for i in range(286, 360):\n",
    "    print(i)\n",
    "    ais.create_source_sed(\n",
    "        calculation_method=\"blackbody\",\n",
    "        magnitude=12,\n",
    "        wavelength_interval=(400, 1100, 1000),\n",
    "        temperature=5700,\n",
    "    )\n",
    "    ais.create_sky_sed(moon_phase=\"new\")\n",
    "    ais.apply_atmosphere_spectral_response()\n",
    "    ais.apply_telescope_spectral_response()\n",
    "    ais.apply_sparc4_spectral_response(\"polarimetry\", \"polarizer\", \"half\", i)\n",
    "    image = ais.create_artificial_image(image_path=path, star_coordinates=(50, 50))\n",
    "    median = np.median(image)\n",
    "    std = np.std(image)\n",
    "    file = os.path.join(path, f\"ret_angle_{i:03}.png\")\n",
    "    ann = plt.annotate(\n",
    "        f\"waveplate angle: {i} deg\",\n",
    "        (0.9, 0.9),\n",
    "        xycoords=\"axes fraction\",\n",
    "        ha=\"right\",\n",
    "        color=\"white\",\n",
    "    )\n",
    "    plt.imshow(\n",
    "        image[0], cmap=\"gray\", origin=\"lower\", vmin=median - 3 * std, vmax=2 * median\n",
    "    )\n",
    "    plt.savefig(file)\n",
    "    ann.remove()\n",
    "\n",
    "# ---------------------------------------------------------------------------------------------------\n",
    "\n",
    "# Create GIF\n",
    "import os\n",
    "import cv2\n",
    "import glob\n",
    "import imageio\n",
    "from sys import exit\n",
    "import matplotlib.pyplot as plt\n",
    "\n",
    "path = r\"E:\\images\\test\"\n",
    "files = os.listdir(path)\n",
    "frameSize = (640, 480)\n",
    "\n",
    "out = cv2.VideoWriter(\n",
    "    path + \"\\\\\" + \"output_video.mp4\", cv2.VideoWriter_fourcc(*\"mp4v\"), 15, frameSize\n",
    ")\n",
    "\n",
    "\n",
    "for filename in glob.glob(path + \"\\\\*.png\"):\n",
    "    img = cv2.imread(filename)\n",
    "    out.write(img)\n",
    "\n",
    "out.release()"
   ]
  },
  {
   "cell_type": "code",
   "execution_count": null,
   "metadata": {},
   "outputs": [],
   "source": [
    "# Create gaussian with noise\n",
    "from AIS.Point_Spread_Function import Point_Spread_Function\n",
    "import matplotlib.pyplot as plt\n",
    "import os\n",
    "\n",
    "ccd_operation_mode = {\n",
    "    \"em_mode\": \"Conv\",\n",
    "    \"em_gain\": 1,\n",
    "    \"preamp\": 1,\n",
    "    \"readout\": 1,\n",
    "    \"binn\": 1,\n",
    "    \"t_exp\": 1,\n",
    "    \"image_size\": 50,\n",
    "}\n",
    "psf = Point_Spread_Function(ccd_operation_mode, 1)\n",
    "image = psf.create_star_image((25, 25), 1e3)\n",
    "plt.imshow(image, cmap=\"gray\")\n",
    "plt.savefig(os.path.join(\"notebook\", \"figures\", \"gaussiana_com_ruido.png\"), dpi=300)"
   ]
  },
  {
   "cell_type": "code",
   "execution_count": 26,
   "metadata": {},
   "outputs": [
    {
     "name": "stdout",
     "output_type": "stream",
     "text": [
      "-32878.57142857143 45656261.9047619\n"
     ]
    },
    {
     "data": {
      "text/plain": [
       "Text(0, 0.5, 'Phase shift (deg)')"
      ]
     },
     "execution_count": 26,
     "metadata": {},
     "output_type": "execute_result"
    },
    {
     "data": {
      "image/png": "[encoded data removed]",
      "text/plain": [
       "<Figure size 640x480 with 1 Axes>"
      ]
     },
     "metadata": {},
     "output_type": "display_data"
    }
   ],
   "source": [
    "# DEPOLARIZER: PHASE SHIFT LINEAR ADJUSTMENT\n",
    "import os\n",
    "import matplotlib.pyplot as plt\n",
    "from scipy.stats import linregress\n",
    "import numpy as np\n",
    "\n",
    "base_path = os.path.join(\"AIS\", \"Spectral_Response\", \"channel\")\n",
    "file = \"depolarizer_shifts.txt\"\n",
    "\n",
    "dict = {\"wavelength\": [], \"shift\": []}\n",
    "with open(os.path.join(base_path, file), \"r\") as file:\n",
    "    text = file.readlines()\n",
    "\n",
    "for line in text[1:4]:\n",
    "    line = line.split(\",\")\n",
    "    dict[\"wavelength\"].append(float(line[0]))\n",
    "    dict[\"shift\"].append(float(line[2]))\n",
    "\n",
    "x, y = np.asarray(dict[\"wavelength\"]), dict[\"shift\"]\n",
    "slope, intercept, *_ = linregress(x, y)\n",
    "adjust = lambda x: slope * x + intercept\n",
    "print(slope, intercept)\n",
    "\n",
    "plt.plot(x, y, \"bo\", alpha=0.8)\n",
    "plt.plot(x, adjust(x), \"b-\", alpha=0.8)\n",
    "plt.xlabel(\"Wavelength (nm)\")\n",
    "plt.ylabel(\"Phase shift (deg)\")"
   ]
  }
 ],
 "metadata": {
  "kernelspec": {
   "display_name": "Python 3.10.1 64-bit",
   "language": "python",
   "name": "python3"
  },
  "language_info": {
   "codemirror_mode": {
    "name": "ipython",
    "version": 3
   },
   "file_extension": ".py",
   "mimetype": "text/x-python",
   "name": "python",
   "nbconvert_exporter": "python",
   "pygments_lexer": "ipython3",
   "version": "3.11.3"
  },
  "orig_nbformat": 4,
  "vscode": {
   "interpreter": {
    "hash": "28f08ed41b5e3c546b55b7f8ca3b3db5f64173800f54c918f7f1499088e79079"
   }
  }
 },
 "nbformat": 4,
 "nbformat_minor": 2
}
