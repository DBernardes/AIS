{
 "cells": [
  {
   "attachments": {},
   "cell_type": "markdown",
   "metadata": {},
   "source": [
    "# General tests of AIS\n",
    "\n",
    "Created on Tue Nov 22 16h24m,  2022\n",
    "\n",
    "This is a notebook to generate data for test the polarimetric mode of AIS\n",
    "\n",
    "@author: denis\n"
   ]
  },
  {
   "attachments": {},
   "cell_type": "markdown",
   "metadata": {},
   "source": [
    "# Ideal polarized star"
   ]
  },
  {
   "cell_type": "code",
   "execution_count": 1,
   "metadata": {},
   "outputs": [],
   "source": [
    "\n",
    "from AIS.Artificial_Image_Simulator import Artificial_Image_Simulator\n",
    "import pandas as pd\n",
    "import os\n",
    "\n",
    "ccd_operation_mode = {\n",
    "    'em_mode': 'Conv',\n",
    "    'em_gain': 1,\n",
    "    'preamp': 1,\n",
    "    'readout': 1,\n",
    "    'binn': 1,\n",
    "    't_exp': 1,\n",
    "    'image_size': 100\n",
    "}\n",
    "\n",
    "dict = {'angle':[], 'ord':[], 'extra':[]}\n",
    "channel = 2\n",
    "\n",
    "\n",
    "ais = Artificial_Image_Simulator(\n",
    "    ccd_operation_mode, channel_id=channel, ccd_temperature=-70)\n",
    "for i in range(16):\n",
    "    ais.create_source_sed(calculation_method='blackbody',\n",
    "                        magnitude=15, wavelength_interval=(400, 1100, 100), temperature=5700)    \n",
    "    ais.apply_linear_polarization(10, 30)\n",
    "    ais.create_sky_sed(moon_phase='new')    \n",
    "    ais.apply_sparc4_spectral_response(\n",
    "        'polarimetry', retarder_waveplate='ideal-half', retarder_waveplate_angle=i*22.5)\n",
    "    ais._integrate_sed()\n",
    "    dict['angle'].append(i*22.5)\n",
    "    dict['ord'].append(ais.star_photons_per_second[0])\n",
    "    dict['extra'].append(ais.star_photons_per_second[1])\n",
    "    \n",
    "df = pd.DataFrame(dict)\n",
    "path = os.path.join('..', 'Testes AIS', 'data',  f'channel {channel}', 'ideal_polarized_star.csv')\n",
    "df.to_csv(path, index=False)"
   ]
  },
  {
   "attachments": {},
   "cell_type": "markdown",
   "metadata": {},
   "source": [
    "# Non-polarized star with polarizer"
   ]
  },
  {
   "cell_type": "code",
   "execution_count": 4,
   "metadata": {},
   "outputs": [],
   "source": [
    "\n",
    "from AIS.Artificial_Image_Simulator import Artificial_Image_Simulator\n",
    "import pandas as pd\n",
    "import os\n",
    "\n",
    "ccd_operation_mode = {\n",
    "    'em_mode': 'Conv',\n",
    "    'em_gain': 1,\n",
    "    'preamp': 1,\n",
    "    'readout': 1,\n",
    "    'binn': 1,\n",
    "    't_exp': 1,\n",
    "    'image_size': 100\n",
    "}\n",
    "dict = {'angle':[], 'ord':[], 'extra':[]}\n",
    "polarizer_mode = 'polarizer'\n",
    "channel = 1\n",
    "\n",
    "ais = Artificial_Image_Simulator(\n",
    "    ccd_operation_mode, channel_id=channel, ccd_temperature=-70)\n",
    "for i in range(16):\n",
    "    ais.create_source_sed(calculation_method='blackbody',\n",
    "                        magnitude=15, wavelength_interval=(400, 1100, 100), temperature=5700)\n",
    "    ais.create_sky_sed(moon_phase='new')    \n",
    "    ais.apply_sparc4_spectral_response(\n",
    "        'polarimetry', polarizer_mode, 'ideal-half', retarder_waveplate_angle=i*22.5)\n",
    "    ais._integrate_sed()\n",
    "    dict['angle'].append(i*22.5)\n",
    "    dict['ord'].append(ais.star_photons_per_second[0])\n",
    "    dict['extra'].append(ais.star_photons_per_second[1])\n",
    "\n",
    "df = pd.DataFrame(dict)\n",
    "path = os.path.join('..', 'Testes AIS', 'data', f'channel {channel}', f'{polarizer_mode}.csv')\n",
    "df.to_csv(path, index=False)\n",
    "    "
   ]
  },
  {
   "attachments": {},
   "cell_type": "markdown",
   "metadata": {},
   "source": [
    "# Polarized star with waveplate"
   ]
  },
  {
   "cell_type": "code",
   "execution_count": 52,
   "metadata": {},
   "outputs": [],
   "source": [
    "\n",
    "from AIS.Artificial_Image_Simulator import Artificial_Image_Simulator\n",
    "import pandas as pd\n",
    "import os\n",
    "\n",
    "ccd_operation_mode = {\n",
    "    'em_mode': 'Conv',\n",
    "    'em_gain': 1,\n",
    "    'preamp': 1,\n",
    "    'readout': 1,\n",
    "    'binn': 1,\n",
    "    't_exp': 1,\n",
    "    'image_size': 100\n",
    "}\n",
    "waveplate_mode = 'ideal-quarter'\n",
    "dict = {'angle':[], 'ord':[], 'extra':[]}\n",
    "channel = 2\n",
    "\n",
    "\n",
    "ais = Artificial_Image_Simulator(\n",
    "    ccd_operation_mode, channel_id=channel, ccd_temperature=-70)\n",
    "for i in range(16):\n",
    "    ais.create_source_sed(calculation_method='blackbody',\n",
    "                        magnitude=15, wavelength_interval=(400, 1100, 100), temperature=5700)\n",
    "    ais.create_sky_sed(moon_phase='new')    \n",
    "    #ais.apply_linear_polarization(100, 15)\n",
    "    ais.apply_circular_polarization(50)\n",
    "    ais.apply_sparc4_spectral_response(\n",
    "        'polarimetry', retarder_waveplate=waveplate_mode, retarder_waveplate_angle=i*22.5)\n",
    "    ais._integrate_sed()\n",
    "    dict['angle'].append(i*22.5)\n",
    "    dict['ord'].append(ais.star_photons_per_second[0])\n",
    "    dict['extra'].append(ais.star_photons_per_second[1])\n",
    "\n",
    "df = pd.DataFrame(dict)\n",
    "path = os.path.join('..', 'Testes AIS', 'data',  f'channel {channel}', f'{waveplate_mode}.csv')\n",
    "df.to_csv(path, index=False)"
   ]
  },
  {
   "attachments": {},
   "cell_type": "markdown",
   "metadata": {},
   "source": [
    "# Polarized star with depolarizer"
   ]
  },
  {
   "cell_type": "code",
   "execution_count": 11,
   "metadata": {},
   "outputs": [],
   "source": [
    "\n",
    "from AIS.Artificial_Image_Simulator import Artificial_Image_Simulator\n",
    "import pandas as pd\n",
    "import os\n",
    "\n",
    "ccd_operation_mode = {\n",
    "    'em_mode': 'Conv',\n",
    "    'em_gain': 1,\n",
    "    'preamp': 1,\n",
    "    'readout': 1,\n",
    "    'binn': 1,\n",
    "    't_exp': 1,\n",
    "    'image_size': 100\n",
    "}\n",
    "waveplate_mode = 'ideal-half'\n",
    "dict = {'angle':[], 'ord':[], 'extra':[]}\n",
    "channel = 1\n",
    "\n",
    "pol = 0.1\n",
    "angle = 0\n",
    "ais = Artificial_Image_Simulator(\n",
    "    ccd_operation_mode, channel_id=channel, ccd_temperature=-70)\n",
    "for i in range(16):\n",
    "    ais.create_source_sed(calculation_method='blackbody',\n",
    "                        magnitude=15, wavelength_interval=(400, 1100, 100), temperature=5700)\n",
    "    ais.create_sky_sed(moon_phase='new')    \n",
    "    ais.apply_linear_polarization(pol, angle)\n",
    "    ais.apply_sparc4_spectral_response(\n",
    "        'polarimetry', 'depolarizer', retarder_waveplate=waveplate_mode, retarder_waveplate_angle=i*22.5)\n",
    "    ais._integrate_sed()\n",
    "    dict['angle'].append(i*22.5)\n",
    "    dict['ord'].append(ais.star_photons_per_second[0])\n",
    "    dict['extra'].append(ais.star_photons_per_second[1])\n",
    "\n",
    "df = pd.DataFrame(dict)\n",
    "path = os.path.join('..', 'Testes AIS', 'data',  f'channel {channel}', 'depolarizer', f'pol{pol}_ang{angle}_depol.csv')\n",
    "df.to_csv(path, index=False)"
   ]
  },
  {
   "attachments": {},
   "cell_type": "markdown",
   "metadata": {},
   "source": [
    "# General"
   ]
  },
  {
   "cell_type": "code",
   "execution_count": 10,
   "metadata": {},
   "outputs": [],
   "source": [
    "\n",
    "from AIS.Artificial_Image_Simulator import Artificial_Image_Simulator\n",
    "import pandas as pd\n",
    "import os\n",
    "\n",
    "ccd_operation_mode = {\n",
    "    'em_mode': 'Conv',\n",
    "    'em_gain': 1,\n",
    "    'preamp': 1,\n",
    "    'readout': 1,\n",
    "    'binn': 1,\n",
    "    't_exp': 1,\n",
    "    'image_size': 100\n",
    "}\n",
    "channel = 1\n",
    "dict = {'angle':[], 'ord':[], 'extra':[]}\n",
    "\n",
    "ais = Artificial_Image_Simulator(\n",
    "    ccd_operation_mode, channel_id=channel, ccd_temperature=-70)\n",
    "for i in range(16):\n",
    "    ais.create_source_sed(calculation_method='blackbody',\n",
    "                        magnitude=15, wavelength_interval=(400, 1100, 100), temperature=5700)    \n",
    "    ais.apply_polarization([0.4, 0.1, 0.15])\n",
    "    ais.create_sky_sed(moon_phase='new')    \n",
    "    ais.apply_sparc4_spectral_response(\n",
    "        'polarimetry', retarder_waveplate='ideal-quarter', retarder_waveplate_angle=i*22.5)\n",
    "    ais._integrate_sed()\n",
    "    dict['angle'].append(i*22.5)\n",
    "    dict['ord'].append(ais.star_photons_per_second[0])\n",
    "    dict['extra'].append(ais.star_photons_per_second[1])\n",
    "    \n",
    "df = pd.DataFrame(dict)\n",
    "path = os.path.join('..', 'Testes AIS', 'data',  f'channel {channel}', 'elliptical_polarization.csv')\n",
    "df.to_csv(path, index=False)"
   ]
  }
 ],
 "metadata": {
  "kernelspec": {
   "display_name": "Python 3.10.1 64-bit",
   "language": "python",
   "name": "python3"
  },
  "language_info": {
   "codemirror_mode": {
    "name": "ipython",
    "version": 3
   },
   "file_extension": ".py",
   "mimetype": "text/x-python",
   "name": "python",
   "nbconvert_exporter": "python",
   "pygments_lexer": "ipython3",
   "version": "3.11.4"
  },
  "orig_nbformat": 4,
  "vscode": {
   "interpreter": {
    "hash": "28f08ed41b5e3c546b55b7f8ca3b3db5f64173800f54c918f7f1499088e79079"
   }
  }
 },
 "nbformat": 4,
 "nbformat_minor": 2
}
