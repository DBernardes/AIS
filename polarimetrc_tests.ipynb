{
 "cells": [
  {
   "cell_type": "markdown",
   "metadata": {},
   "source": [
    "# General tests of te AIS\n",
    "\n",
    "Created on Tue Nov 22 16h24m,  2022\n",
    "\n",
    "This is a script for the development of general tests\n",
    "\n",
    "@author: denis\n"
   ]
  },
  {
   "cell_type": "code",
   "execution_count": 1,
   "metadata": {},
   "outputs": [
    {
     "name": "stdout",
     "output_type": "stream",
     "text": [
      "0.0,1149.0479198043272,0.0016453549098410139\n",
      "22.5,624.4095287596773,524.6400363995597\n",
      "45.0,97.75406599925175,1051.2954991599852\n",
      "67.5,622.3924570439015,526.6571081153354\n",
      "90.0,1149.0479198043272,0.0016453549098410139\n",
      "112.5,624.4095287596774,524.6400363995596\n",
      "135.0,97.75406599925175,1051.2954991599852\n",
      "157.5,622.3924570439013,526.6571081153356\n",
      "180.0,1149.0479198043272,0.0016453549098410139\n",
      "202.5,624.4095287596775,524.6400363995594\n",
      "225.0,97.75406599925175,1051.2954991599852\n",
      "247.5,622.3924570439021,526.6571081153347\n",
      "270.0,1149.0479198043272,0.0016453549098410139\n",
      "292.5,624.4095287596768,524.6400363995602\n",
      "315.0,97.75406599925175,1051.2954991599852\n",
      "337.5,622.392457043902,526.657108115335\n"
     ]
    }
   ],
   "source": [
    "#Test polarization with a non-ideal polarizer\n",
    "from AIS.Artificial_Image_Simulator import Artificial_Image_Simulator\n",
    "\n",
    "ccd_operation_mode = {\n",
    "    'em_mode': 'Conv',\n",
    "    'em_gain': 1,\n",
    "    'preamp': 1,\n",
    "    'readout': 1,\n",
    "    'binn': 1,\n",
    "    't_exp': 1,\n",
    "    'image_size': 100\n",
    "}\n",
    "\n",
    "ais = Artificial_Image_Simulator(\n",
    "    ccd_operation_mode, channel_id=1, ccd_temperature=-70)\n",
    "for i in range(16):\n",
    "    ais.create_source_sed(calculation_method='blackbody',\n",
    "                        magnitude=15, wavelength_interval=(400, 1100, 100), temperature=5700)\n",
    "    ais.create_sky_sed(moon_phase='new')    \n",
    "    ais.apply_sparc4_spectral_response(\n",
    "        'polarimetry', 'polarizer', retarder_waveplate_angle=i*22.5)\n",
    "    ais._integrate_sed()\n",
    "    print(i*22.5, *ais.star_photons_per_second, sep=',')"
   ]
  },
  {
   "cell_type": "code",
   "execution_count": null,
   "metadata": {},
   "outputs": [],
   "source": [
    "#Test polarization with a non-ideal waveplate\n",
    "from AIS.Artificial_Image_Simulator import Artificial_Image_Simulator\n",
    "\n",
    "ccd_operation_mode = {\n",
    "    'em_mode': 'Conv',\n",
    "    'em_gain': 1,\n",
    "    'preamp': 1,\n",
    "    'readout': 1,\n",
    "    'binn': 1,\n",
    "    't_exp': 1,\n",
    "    'image_size': 100\n",
    "}\n",
    "\n",
    "ais = Artificial_Image_Simulator(\n",
    "    ccd_operation_mode, channel_id=1, ccd_temperature=-70)\n",
    "for i in range(16):\n",
    "    ais.create_source_sed(calculation_method='blackbody',\n",
    "                        magnitude=15, wavelength_interval=(400, 1100, 100), temperature=5700)\n",
    "    ais.create_sky_sed(moon_phase='new')    \n",
    "    ais.apply_sparc4_spectral_response(\n",
    "        'polarimetry', 'polarizer', retarder_waveplate_angle=i*22.5)\n",
    "    ais._integrate_sed()\n",
    "    print(i*22.5, *ais.star_photons_per_second, sep=',')"
   ]
  }
 ],
 "metadata": {
  "kernelspec": {
   "display_name": "Python 3.10.1 64-bit",
   "language": "python",
   "name": "python3"
  },
  "language_info": {
   "codemirror_mode": {
    "name": "ipython",
    "version": 3
   },
   "file_extension": ".py",
   "mimetype": "text/x-python",
   "name": "python",
   "nbconvert_exporter": "python",
   "pygments_lexer": "ipython3",
   "version": "3.10.9"
  },
  "orig_nbformat": 4,
  "vscode": {
   "interpreter": {
    "hash": "28f08ed41b5e3c546b55b7f8ca3b3db5f64173800f54c918f7f1499088e79079"
   }
  }
 },
 "nbformat": 4,
 "nbformat_minor": 2
}
