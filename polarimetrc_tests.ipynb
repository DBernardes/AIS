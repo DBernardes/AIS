{
 "cells": [
  {
   "attachments": {},
   "cell_type": "markdown",
   "metadata": {},
   "source": [
    "# General tests of te AIS\n",
    "\n",
    "Created on Tue Nov 22 16h24m,  2022\n",
    "\n",
    "This is a notebook to generate data for test the polarimetric mode of AIS\n",
    "\n",
    "@author: denis\n"
   ]
  },
  {
   "cell_type": "code",
   "execution_count": 2,
   "metadata": {},
   "outputs": [],
   "source": [
    "#Test polarization with a polarizer\n",
    "from AIS.Artificial_Image_Simulator import Artificial_Image_Simulator\n",
    "import pandas as pd\n",
    "import os\n",
    "\n",
    "ccd_operation_mode = {\n",
    "    'em_mode': 'Conv',\n",
    "    'em_gain': 1,\n",
    "    'preamp': 1,\n",
    "    'readout': 1,\n",
    "    'binn': 1,\n",
    "    't_exp': 1,\n",
    "    'image_size': 100\n",
    "}\n",
    "dict = {'angle':[], 'ord':[], 'extra':[]}\n",
    "polarizer_mode = 'ideal-polarizer'\n",
    "ais = Artificial_Image_Simulator(\n",
    "    ccd_operation_mode, channel_id=1, ccd_temperature=-70)\n",
    "for i in range(16):\n",
    "    ais.create_source_sed(calculation_method='blackbody',\n",
    "                        magnitude=15, wavelength_interval=(400, 1100, 100), temperature=5700)\n",
    "    ais.create_sky_sed(moon_phase='new')    \n",
    "    ais.apply_sparc4_spectral_response(\n",
    "        'polarimetry', polarizer_mode, 'ideal-half', retarder_waveplate_angle=i*22.5)\n",
    "    ais._integrate_sed()\n",
    "    dict['angle'].append(i*22.5)\n",
    "    dict['ord'].append(ais.star_photons_per_second[0])\n",
    "    dict['extra'].append(ais.star_photons_per_second[1])\n",
    "\n",
    "df = pd.DataFrame(dict)\n",
    "path = os.path.join('..', 'Testes AIS', 'data', f'{polarizer_mode}.csv')\n",
    "df.to_csv(path, index=False)\n",
    "    "
   ]
  },
  {
   "cell_type": "code",
   "execution_count": 6,
   "metadata": {},
   "outputs": [],
   "source": [
    "#Polarized star with waveplate\n",
    "from AIS.Artificial_Image_Simulator import Artificial_Image_Simulator\n",
    "import pandas as pd\n",
    "import os\n",
    "\n",
    "ccd_operation_mode = {\n",
    "    'em_mode': 'Conv',\n",
    "    'em_gain': 1,\n",
    "    'preamp': 1,\n",
    "    'readout': 1,\n",
    "    'binn': 1,\n",
    "    't_exp': 1,\n",
    "    'image_size': 100\n",
    "}\n",
    "waveplate_mode = 'half'\n",
    "dict = {'angle':[], 'ord':[], 'extra':[]}\n",
    "ais = Artificial_Image_Simulator(\n",
    "    ccd_operation_mode, channel_id=1, ccd_temperature=-70)\n",
    "for i in range(16):\n",
    "    ais.create_source_sed(calculation_method='blackbody',\n",
    "                        magnitude=15, wavelength_interval=(400, 1100, 100), temperature=5700)\n",
    "    ais.create_sky_sed(moon_phase='new')    \n",
    "    ais.apply_polarization('linear', 0, 100)\n",
    "    ais.apply_sparc4_spectral_response(\n",
    "        'polarimetry', retarder_waveplate=waveplate_mode, retarder_waveplate_angle=i*22.5)\n",
    "    ais._integrate_sed()\n",
    "    dict['angle'].append(i*22.5)\n",
    "    dict['ord'].append(ais.star_photons_per_second[0])\n",
    "    dict['extra'].append(ais.star_photons_per_second[1])\n",
    "\n",
    "df = pd.DataFrame(dict)\n",
    "path = os.path.join('..', 'Testes AIS', 'data', f'{waveplate_mode}.csv')\n",
    "df.to_csv(path, index=False)"
   ]
  },
  {
   "cell_type": "code",
   "execution_count": 4,
   "metadata": {},
   "outputs": [],
   "source": [
    "#Test source polarization\n",
    "from AIS.Artificial_Image_Simulator import Artificial_Image_Simulator\n",
    "import pandas as pd\n",
    "import os\n",
    "\n",
    "ccd_operation_mode = {\n",
    "    'em_mode': 'Conv',\n",
    "    'em_gain': 1,\n",
    "    'preamp': 1,\n",
    "    'readout': 1,\n",
    "    'binn': 1,\n",
    "    't_exp': 1,\n",
    "    'image_size': 100\n",
    "}\n",
    "\n",
    "dict = {'angle':[], 'ord':[], 'extra':[]}\n",
    "ais = Artificial_Image_Simulator(\n",
    "    ccd_operation_mode, channel_id=1, ccd_temperature=-70)\n",
    "for i in range(16):\n",
    "    ais.create_source_sed(calculation_method='blackbody',\n",
    "                        magnitude=15, wavelength_interval=(400, 1100, 100), temperature=5700)\n",
    "    ais.apply_polarization('linear', 0, 3)\n",
    "    ais.create_sky_sed(moon_phase='new')    \n",
    "    ais.apply_sparc4_spectral_response(\n",
    "        'polarimetry', retarder_waveplate='ideal-half', retarder_waveplate_angle=i*22.5)\n",
    "    ais._integrate_sed()\n",
    "    dict['angle'].append(i*22.5)\n",
    "    dict['ord'].append(ais.star_photons_per_second[0])\n",
    "    dict['extra'].append(ais.star_photons_per_second[1])\n",
    "    \n",
    "df = pd.DataFrame(dict)\n",
    "path = os.path.join('..', 'Testes AIS', 'data', 'polarized_star.csv')\n",
    "df.to_csv(path, index=False)"
   ]
  }
 ],
 "metadata": {
  "kernelspec": {
   "display_name": "Python 3.10.1 64-bit",
   "language": "python",
   "name": "python3"
  },
  "language_info": {
   "codemirror_mode": {
    "name": "ipython",
    "version": 3
   },
   "file_extension": ".py",
   "mimetype": "text/x-python",
   "name": "python",
   "nbconvert_exporter": "python",
   "pygments_lexer": "ipython3",
   "version": "3.10.9"
  },
  "orig_nbformat": 4,
  "vscode": {
   "interpreter": {
    "hash": "28f08ed41b5e3c546b55b7f8ca3b3db5f64173800f54c918f7f1499088e79079"
   }
  }
 },
 "nbformat": 4,
 "nbformat_minor": 2
}
